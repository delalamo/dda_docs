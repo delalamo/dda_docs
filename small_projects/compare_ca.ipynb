{
 "cells": [
  {
   "cell_type": "markdown",
   "metadata": {},
   "source": [
    "## Alpha-carbon distance change calculator\n",
    "**Author:** Diego del Alamo\n",
    "\n",
    "**Date:** 1 May 2021\n",
    "\n",
    "**Description:** Checks the largest distance change between alpha carbons in two protein models (provided by PDB files) across a range of residues\n",
    "\n",
    "This program quickly determines the residue pair undergoing the largest amplitude distance change between two protein structures. Distances between alpha carbons are measured. This can be used to quickly determine which residues to spin label for pulse EPR measurements.\n",
    "\n",
    "**TODO:** Determine distances using spin labels rather than alpha carbons."
   ]
  },
  {
   "cell_type": "code",
   "execution_count": 13,
   "metadata": {},
   "outputs": [],
   "source": [
    "import numpy as np\n",
    "import itertools\n",
    "import ipywidgets as widgets"
   ]
  },
  {
   "cell_type": "markdown",
   "metadata": {},
   "source": [
    "PDB file #1:"
   ]
  },
  {
   "cell_type": "code",
   "execution_count": 2,
   "metadata": {},
   "outputs": [
    {
     "data": {
      "application/vnd.jupyter.widget-view+json": {
       "model_id": "df3ada84b0064f4a80d9020dbeae5a4b",
       "version_major": 2,
       "version_minor": 0
      },
      "text/plain": [
       "FileUpload(value={}, accept='.pdb', description='Upload')"
      ]
     },
     "metadata": {},
     "output_type": "display_data"
    }
   ],
   "source": [
    "uploader1 = widgets.FileUpload( accept='.pdb', multiple=False )\n",
    "display( uploader1 )"
   ]
  },
  {
   "cell_type": "markdown",
   "metadata": {},
   "source": [
    "PDB file #2:"
   ]
  },
  {
   "cell_type": "code",
   "execution_count": 3,
   "metadata": {
    "scrolled": false
   },
   "outputs": [
    {
     "data": {
      "application/vnd.jupyter.widget-view+json": {
       "model_id": "61644a411a944bafbd22e93a8bb5526f",
       "version_major": 2,
       "version_minor": 0
      },
      "text/plain": [
       "FileUpload(value={}, accept='.pdb', description='Upload')"
      ]
     },
     "metadata": {},
     "output_type": "display_data"
    }
   ],
   "source": [
    "uploader2 = widgets.FileUpload( accept='.pdb', multiple=False )\n",
    "display( uploader2 )"
   ]
  },
  {
   "cell_type": "markdown",
   "metadata": {},
   "source": [
    "Restraints to check (comma-separated, with residues separated by dashes):\n"
   ]
  },
  {
   "cell_type": "code",
   "execution_count": 4,
   "metadata": {},
   "outputs": [
    {
     "data": {
      "application/vnd.jupyter.widget-view+json": {
       "model_id": "3c57b74635144f8e8a1c93e325c2a8e6",
       "version_major": 2,
       "version_minor": 0
      },
      "text/plain": [
       "Textarea(value='195A-195B, 196A-196B, 197A-197B, 198A-198B', description='Residue pairs', placeholder='195A-19…"
      ]
     },
     "metadata": {},
     "output_type": "display_data"
    }
   ],
   "source": [
    "default = \"195A-195B, 196A-196B, 197A-197B, 198A-198B\"\n",
    "pairs_in = widgets.Textarea( value=default,\n",
    "                          placeholder=default,\n",
    "                          description=\"Residue pairs\",\n",
    "                          disabled=False )\n",
    "display( pairs_in )"
   ]
  },
  {
   "cell_type": "markdown",
   "metadata": {},
   "source": [
    "Minimum and maximum distance (in angstroms):"
   ]
  },
  {
   "cell_type": "code",
   "execution_count": 5,
   "metadata": {},
   "outputs": [
    {
     "data": {
      "application/vnd.jupyter.widget-view+json": {
       "model_id": "cd11e64422d04da3b2649278c17b57ec",
       "version_major": 2,
       "version_minor": 0
      },
      "text/plain": [
       "FloatRangeSlider(value=(15.0, 60.0), description='Distances (Å)', step=1.0)"
      ]
     },
     "metadata": {},
     "output_type": "display_data"
    }
   ],
   "source": [
    "lower_upper = widgets.FloatRangeSlider(\n",
    "    value=[ 15., 60. ],\n",
    "    min=0,\n",
    "    max=100,\n",
    "    step=1.,\n",
    "    description=\"Distances (Å)\",\n",
    "    disabled=False,\n",
    "    orientation=\"horizontal\",\n",
    "    readout=True\n",
    ")\n",
    "display( lower_upper )"
   ]
  },
  {
   "cell_type": "code",
   "execution_count": 6,
   "metadata": {},
   "outputs": [],
   "source": [
    "def process( line ):\n",
    "    resn = int( line[ 22: 27 ] )\n",
    "    chain = line[ 21 ]\n",
    "    x = float( line[ 28:39 ] )\n",
    "    y = float( line[ 39:47 ] )\n",
    "    z = float( line[ 47:55 ] )\n",
    "    return str( resn ) + chain, ( x, y, z )"
   ]
  },
  {
   "cell_type": "code",
   "execution_count": 7,
   "metadata": {},
   "outputs": [],
   "source": [
    "def dist( xyz1, xyz2 ):\n",
    "    return np.sqrt( sum([ ( xyz1[ i ] - xyz2[ i ]) ** 2 for i in range( 3 ) ]))"
   ]
  },
  {
   "cell_type": "code",
   "execution_count": 22,
   "metadata": {},
   "outputs": [],
   "source": [
    "out = widgets.Output()\n",
    "@out.capture( clear_output=False, wait=True )\n",
    "def calculate_everything( _ ):\n",
    "    \n",
    "    lower = lower_upper.value[ 0 ]\n",
    "    upper = lower_upper.value[ 1 ]\n",
    "    \n",
    "    pairs = [ pair.strip().split( \"-\" ) for pair in pairs_in.value.split( \",\" ) ]\n",
    "    residues = set( itertools.chain( [ x[ 0 ] for x in pairs ], [ x[ 1 ] for x in pairs ] ) )\n",
    "    \n",
    "    model1_pair_dists = dict()\n",
    "    model2_pair_dists = dict()\n",
    "    for uploader, dists in [ ( uploader1, model1_pair_dists ),\n",
    "                              ( uploader2, model2_pair_dists ) ]:\n",
    "        coords = dict()\n",
    "        for line in str( uploader.data[ 0 ] ).split( \"\\\\n\" ):\n",
    "            if line.startswith( \"ATOM\" ) and \" CA \" in line:\n",
    "                res, xyz = process( line )\n",
    "                if res in residues:\n",
    "                    coords[ res ] = xyz\n",
    "        for res in residues:\n",
    "            if res not in coords:\n",
    "                print( \"WARNING: {} not found in PDB file!\".format( res ) )\n",
    "        for pair in pairs:\n",
    "            dists[ tuple( pair ) ] = dist( coords[ pair[ 0 ] ], coords[ pair[ 1 ] ] )\n",
    "\n",
    "\n",
    "    best = None\n",
    "    dists = None\n",
    "    ddist = None\n",
    "    for pair in pairs:\n",
    "        dist1, dist2 = model1_pair_dists[ tuple( pair ) ], model2_pair_dists[ tuple( pair ) ]\n",
    "        if dist1 < lower or dist1 > upper or dist2 < lower or dist2 > upper:\n",
    "            continue\n",
    "        temp_ddist = abs( dist1 - dist2 )\n",
    "        if ddist is None or temp_ddist > ddist:\n",
    "            best = pair\n",
    "            dists = ( dist1, dist2 )\n",
    "            ddist = temp_ddist\n",
    "    if best is None:\n",
    "        print( \"ERROR: No distances satisfying the parameters were found!\" )\n",
    "    else:\n",
    "        print( \"Best pair: {}-{}\".format( best[ 0 ], best[ 1 ] ) )\n",
    "        print( \"CA distance in model 1: {}\".format( dists[ 0 ] ) )\n",
    "        print( \"CA distance in model 2: {}\".format( dists[ 1 ] ) )"
   ]
  },
  {
   "cell_type": "code",
   "execution_count": 23,
   "metadata": {},
   "outputs": [
    {
     "data": {
      "application/vnd.jupyter.widget-view+json": {
       "model_id": "828023e383e3443f9e29f9b057d90074",
       "version_major": 2,
       "version_minor": 0
      },
      "text/plain": [
       "Button(description='Calculate', style=ButtonStyle())"
      ]
     },
     "metadata": {},
     "output_type": "display_data"
    },
    {
     "data": {
      "application/vnd.jupyter.widget-view+json": {
       "model_id": "122b78bcae7048da963b73ecb5d4694e",
       "version_major": 2,
       "version_minor": 0
      },
      "text/plain": [
       "Output()"
      ]
     },
     "metadata": {},
     "output_type": "display_data"
    }
   ],
   "source": [
    "whatever = \"\"\n",
    "go = widgets.Button(\n",
    "    value=False,\n",
    "    description=\"Calculate\" )\n",
    "display( go )\n",
    "def nullfxn():\n",
    "    return False\n",
    "go.on_click( calculate_everything )\n",
    "out"
   ]
  },
  {
   "cell_type": "code",
   "execution_count": null,
   "metadata": {},
   "outputs": [],
   "source": []
  }
 ],
 "metadata": {
  "kernelspec": {
   "display_name": "Python 3",
   "language": "python",
   "name": "python3"
  },
  "language_info": {
   "codemirror_mode": {
    "name": "ipython",
    "version": 3
   },
   "file_extension": ".py",
   "mimetype": "text/x-python",
   "name": "python",
   "nbconvert_exporter": "python",
   "pygments_lexer": "ipython3",
   "version": "3.8.5"
  }
 },
 "nbformat": 4,
 "nbformat_minor": 4
}
