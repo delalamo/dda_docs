{
 "cells": [
  {
   "cell_type": "markdown",
   "metadata": {},
   "source": [
    "# FitTransportData.ipynb"
   ]
  },
  {
   "cell_type": "markdown",
   "metadata": {},
   "source": [
    "This notebook fits data collected using transport assays. The transport assays measure influx as a function of substrate concentration and the experimental analysis below assumes that time is fixed."
   ]
  },
  {
   "cell_type": "markdown",
   "metadata": {},
   "source": [
    "# 1. Introduction"
   ]
  },
  {
   "cell_type": "markdown",
   "metadata": {},
   "source": [
    "Transport assays measure the amount of radioactive substrate transported into a proteoliposome by a protein of interest. The proteoliposomes are briefly immersed in a solution containing this radioactive substrate, then immobilized on a filter, thoroughly washed, and suspended in scintillation fluid overnight. The signal is quantified in a scintillation counter and scales linearly with the amount of radioactive substrate in the tube. We can therefore correlate the strength of this signal with the transporter's ability to import substrate in general."
   ]
  },
  {
   "cell_type": "markdown",
   "metadata": {},
   "source": [
    "Several steps are required to analyze these data. First, the scintillation counter must quantify how much radioactive substrate is in the sample. Second, the data must be corrected by negative controls, which are kept at a lower temperature but are otherwise identical: any signal here should only result from  substrate binding the proteoliposome's exterior. Third, a standard curve must establish the concentration of the transporter in the sample. Finally, a standard curve must establish the relationship between the radioactive substrate and the signal observed by the scintillation counter (this changes over time since the substrate decays over time; however, I exclusively used substrates labeled with tritium, which has a half-life of about twelve years). We go over each of these steps in turn."
   ]
  },
  {
   "cell_type": "markdown",
   "metadata": {},
   "source": [
    "The first step is to establish the modules required by this script and the files that will be opened."
   ]
  },
  {
   "cell_type": "code",
   "execution_count": 111,
   "metadata": {},
   "outputs": [],
   "source": [
    "import pandas as pd\n",
    "import numpy as np\n",
    "import matplotlib.pyplot as plt\n",
    "\n",
    "from scipy.stats import linregress\n",
    "\n",
    "import pathlib\n",
    "import os"
   ]
  },
  {
   "cell_type": "code",
   "execution_count": 127,
   "metadata": {},
   "outputs": [],
   "source": [
    "path = pathlib.Path().absolute()\n",
    "\n",
    "# Raw data\n",
    "transport_file = os.path.join( path, \"sample_transport_data.tsv\" )\n",
    "\n",
    "# Description of the experiment\n",
    "# Contains info for substrate standard curve\n",
    "experiment_file = os.path.join( path, \"sample_experiment.csv\" )\n",
    "\n",
    "# Standard curve for protein\n",
    "protein_q_file = os.path.join( path, \"protein_curve.csv\" )"
   ]
  },
  {
   "cell_type": "markdown",
   "metadata": {},
   "source": [
    "# 2. Importing transport data"
   ]
  },
  {
   "cell_type": "markdown",
   "metadata": {},
   "source": [
    "First the data must be important. The scintillation counter's manufacturer, in their infinite wisdom, decided to save their data as RTFs. As a result, the data must be manually copied and pasted to a TXT file. We will then import these data as a dataframe. We are chiefly interested in the two signals obtained, from which we will take the average."
   ]
  },
  {
   "cell_type": "code",
   "execution_count": 139,
   "metadata": {},
   "outputs": [
    {
     "name": "stdout",
     "output_type": "stream",
     "text": [
      "   CPMA  CPMB     Avg\n",
      "0   120   104   112.0\n",
      "1  2770  2573  2671.5\n",
      "2  3067  2806  2936.5\n",
      "3  2552  2365  2458.5\n",
      "4   114    96   105.0\n"
     ]
    }
   ],
   "source": [
    "df = pd.read_csv( transport_file, sep=\"\\s+\", header=None,\n",
    "    skiprows=47, usecols=[ 2, 3 ], names=[ \"CPMA\", \"CPMB\" ] )\n",
    "df[ 'Avg' ] = df.replace(\n",
    "    '*****', np.NaN ).astype( float ).mean( axis=1 )\n",
    "print( df.head() )"
   ]
  },
  {
   "cell_type": "markdown",
   "metadata": {},
   "source": [
    "Of course the samples lack context and need some kind of description. I decided to include this description in a separate file, provided above. The contents of this file will likewise be read as a dataframe; we will then concatenate the two."
   ]
  },
  {
   "cell_type": "code",
   "execution_count": 140,
   "metadata": {},
   "outputs": [
    {
     "name": "stdout",
     "output_type": "stream",
     "text": [
      "   CPMA  CPMB     Avg  Time (min)  Conc (micromolar)  Temp  Control (uCi)\n",
      "0   120   104   112.0         2.0               10.0  Cold            NaN\n",
      "1  2770  2573  2671.5         2.0               10.0    RT            NaN\n",
      "2  3067  2806  2936.5         2.0               10.0    RT            NaN\n",
      "3  2552  2365  2458.5         2.0               10.0    RT            NaN\n",
      "4   114    96   105.0         2.0               20.0  Cold            NaN\n"
     ]
    }
   ],
   "source": [
    "df = pd.concat( [ df, pd.read_csv( experiment_file, sep=\",\" ) ], axis=1 )\n",
    "print( df.head() )"
   ]
  },
  {
   "cell_type": "markdown",
   "metadata": {},
   "source": [
    "# 3. Standard curves"
   ]
  },
  {
   "cell_type": "markdown",
   "metadata": {},
   "source": [
    "This gives us a dataframe with all the raw, unprocessed data. Before we can convert these into meaningful transport rates, we first need to get an idea of:\n",
    "1. How much protein is in each sample, and\n",
    "2. How radiolabled substrate concentration correlates with signal strength\n",
    "We will start with the substrate."
   ]
  },
  {
   "cell_type": "markdown",
   "metadata": {},
   "source": [
    "## 3.1 Substrate standard curve"
   ]
  },
  {
   "cell_type": "markdown",
   "metadata": {},
   "source": [
    "I wanted to check if there are any outliers before making a curve."
   ]
  },
  {
   "cell_type": "code",
   "execution_count": 141,
   "metadata": {},
   "outputs": [
    {
     "data": {
      "text/html": [
       "<div>\n",
       "<style scoped>\n",
       "    .dataframe tbody tr th:only-of-type {\n",
       "        vertical-align: middle;\n",
       "    }\n",
       "\n",
       "    .dataframe tbody tr th {\n",
       "        vertical-align: top;\n",
       "    }\n",
       "\n",
       "    .dataframe thead th {\n",
       "        text-align: right;\n",
       "    }\n",
       "</style>\n",
       "<table border=\"1\" class=\"dataframe\">\n",
       "  <thead>\n",
       "    <tr style=\"text-align: right;\">\n",
       "      <th></th>\n",
       "      <th>Avg</th>\n",
       "      <th>Control (uCi)</th>\n",
       "    </tr>\n",
       "  </thead>\n",
       "  <tbody>\n",
       "    <tr>\n",
       "      <th>33</th>\n",
       "      <td>183498.5</td>\n",
       "      <td>0.200000</td>\n",
       "    </tr>\n",
       "    <tr>\n",
       "      <th>34</th>\n",
       "      <td>43352.5</td>\n",
       "      <td>0.040000</td>\n",
       "    </tr>\n",
       "    <tr>\n",
       "      <th>35</th>\n",
       "      <td>7079.0</td>\n",
       "      <td>0.008000</td>\n",
       "    </tr>\n",
       "    <tr>\n",
       "      <th>36</th>\n",
       "      <td>1453.5</td>\n",
       "      <td>0.001600</td>\n",
       "    </tr>\n",
       "    <tr>\n",
       "      <th>37</th>\n",
       "      <td>391.0</td>\n",
       "      <td>0.000320</td>\n",
       "    </tr>\n",
       "    <tr>\n",
       "      <th>38</th>\n",
       "      <td>83.5</td>\n",
       "      <td>0.000064</td>\n",
       "    </tr>\n",
       "    <tr>\n",
       "      <th>39</th>\n",
       "      <td>18.5</td>\n",
       "      <td>0.000013</td>\n",
       "    </tr>\n",
       "  </tbody>\n",
       "</table>\n",
       "</div>"
      ],
      "text/plain": [
       "         Avg  Control (uCi)\n",
       "33  183498.5       0.200000\n",
       "34   43352.5       0.040000\n",
       "35    7079.0       0.008000\n",
       "36    1453.5       0.001600\n",
       "37     391.0       0.000320\n",
       "38      83.5       0.000064\n",
       "39      18.5       0.000013"
      ]
     },
     "execution_count": 141,
     "metadata": {},
     "output_type": "execute_result"
    }
   ],
   "source": [
    "df[[ 'Avg', 'Control (uCi)' ]].dropna()"
   ]
  },
  {
   "cell_type": "markdown",
   "metadata": {},
   "source": [
    "Looks fine, so I proceeded."
   ]
  },
  {
   "cell_type": "code",
   "execution_count": 154,
   "metadata": {},
   "outputs": [
    {
     "name": "stdout",
     "output_type": "stream",
     "text": [
      "Slope     :\t 0.0000010873\n",
      "Intercept :\t-0.0009236198\n",
      "p-value   :\t 0.9993080279\n",
      "R         :\t 0.0000000242\n",
      "Error     :\t 0.0000000181\n"
     ]
    },
    {
     "data": {
      "image/png": "[encoded data removed]",
      "text/plain": [
       "<Figure size 432x288 with 1 Axes>"
      ]
     },
     "metadata": {
      "needs_background": "light"
     },
     "output_type": "display_data"
    }
   ],
   "source": [
    "df_s = df[[ 'Avg', 'Control (uCi)' ]].dropna()\n",
    "fit_s = linregress( df_s[ 'Avg' ], df_s[ 'Control (uCi)' ] )\n",
    "\n",
    "for i, val in enumerate( [ \"Slope\", \"Intercept\", \"p-value\", \"R\", \"Error\" ] ):\n",
    "    print( \"{:10}:\\t{:13.10f}\".format( val, fit_s[ i ] ) )\n",
    "   \n",
    "x = np.linspace( 0, 200000, 10 )\n",
    "plt.loglog( x, x * fit_s[ 0 ] + fit_s[ 1 ], '-r', color='red', label=\"data\" )\n",
    "plt.plot( df_s[ 'Avg' ], df_s[ 'Control (uCi)' ], 'o', color='black', label=\"fit\" )\n",
    "plt.legend()\n",
    "plt.show()"
   ]
  },
  {
   "cell_type": "markdown",
   "metadata": {},
   "source": [
    "(The plot is double-log to avoid squishing most datapoints into the bottom-left corner)\n",
    "\n",
    "Now we can make a function to convert the signal into a concentration of substrate."
   ]
  },
  {
   "cell_type": "code",
   "execution_count": 148,
   "metadata": {},
   "outputs": [],
   "source": [
    "def to_substr( val ): return val * fit_s[ 0 ] + fit_s[ 1 ]"
   ]
  },
  {
   "cell_type": "markdown",
   "metadata": {},
   "source": [
    "## 3.2 Protein standard curve"
   ]
  },
  {
   "cell_type": "markdown",
   "metadata": {},
   "source": [
    "I wanted to see if there are any outliers before making a standard curve:"
   ]
  },
  {
   "cell_type": "code",
   "execution_count": 149,
   "metadata": {},
   "outputs": [
    {
     "data": {
      "text/html": [
       "<div>\n",
       "<style scoped>\n",
       "    .dataframe tbody tr th:only-of-type {\n",
       "        vertical-align: middle;\n",
       "    }\n",
       "\n",
       "    .dataframe tbody tr th {\n",
       "        vertical-align: top;\n",
       "    }\n",
       "\n",
       "    .dataframe thead th {\n",
       "        text-align: right;\n",
       "    }\n",
       "</style>\n",
       "<table border=\"1\" class=\"dataframe\">\n",
       "  <thead>\n",
       "    <tr style=\"text-align: right;\">\n",
       "      <th></th>\n",
       "      <th>Protein (ug)</th>\n",
       "      <th>Intensity (AU)</th>\n",
       "    </tr>\n",
       "  </thead>\n",
       "  <tbody>\n",
       "    <tr>\n",
       "      <th>0</th>\n",
       "      <td>0.02</td>\n",
       "      <td>45045</td>\n",
       "    </tr>\n",
       "    <tr>\n",
       "      <th>1</th>\n",
       "      <td>0.08</td>\n",
       "      <td>90782</td>\n",
       "    </tr>\n",
       "    <tr>\n",
       "      <th>2</th>\n",
       "      <td>0.25</td>\n",
       "      <td>328713</td>\n",
       "    </tr>\n",
       "    <tr>\n",
       "      <th>3</th>\n",
       "      <td>1.00</td>\n",
       "      <td>936089</td>\n",
       "    </tr>\n",
       "    <tr>\n",
       "      <th>4</th>\n",
       "      <td>2.00</td>\n",
       "      <td>1181873</td>\n",
       "    </tr>\n",
       "  </tbody>\n",
       "</table>\n",
       "</div>"
      ],
      "text/plain": [
       "   Protein (ug)  Intensity (AU)\n",
       "0          0.02           45045\n",
       "1          0.08           90782\n",
       "2          0.25          328713\n",
       "3          1.00          936089\n",
       "4          2.00         1181873"
      ]
     },
     "execution_count": 149,
     "metadata": {},
     "output_type": "execute_result"
    }
   ],
   "source": [
    "pd.read_csv( protein_q_file, sep=\",\" )"
   ]
  },
  {
   "cell_type": "markdown",
   "metadata": {},
   "source": [
    "Here I realized that the last entry was a bit of an outlier, as it should have double to intensity of the second-to-last entry but onlyhas about 20% more. I therefore omitted the last entry."
   ]
  },
  {
   "cell_type": "code",
   "execution_count": 159,
   "metadata": {},
   "outputs": [],
   "source": [
    "protein_q = pd.read_csv( protein_q_file, sep=\",\", skipfooter=1, engine=\"python\" )"
   ]
  },
  {
   "cell_type": "code",
   "execution_count": 183,
   "metadata": {},
   "outputs": [
    {
     "name": "stdout",
     "output_type": "stream",
     "text": [
      "Slope     :\t 0.0000010983\n",
      "Intercept :\t-0.0470888929\n",
      "p-value   :\t 0.9955018654\n",
      "R         :\t 0.0044981346\n",
      "Error     :\t 0.0000000739\n"
     ]
    },
    {
     "data": {
      "image/png": "[encoded data removed]",
      "text/plain": [
       "<Figure size 432x288 with 1 Axes>"
      ]
     },
     "metadata": {
      "needs_background": "light"
     },
     "output_type": "display_data"
    }
   ],
   "source": [
    "fit_p = linregress( protein_q[ 'Intensity (AU)' ], protein_q[ 'Protein (ug)' ] )\n",
    "\n",
    "for i, val in enumerate( [ \"Slope\", \"Intercept\", \"p-value\", \"R\", \"Error\" ] ):\n",
    "    print( \"{:10}:\\t{:13.10f}\".format( val, fit_p[ i ] ) )\n",
    "   \n",
    "# Now let's plot\n",
    "x = np.linspace( 30000, 1000000, 5000 )\n",
    "plt.plot( x, x * fit_p[ 0 ] + fit_p[ 1 ], '-r', color='red', label=\"data\" )\n",
    "plt.plot( protein_q[ 'Intensity (AU)' ], protein_q[ 'Protein (ug)' ], 'o', color='black', label=\"fit\" )\n",
    "plt.legend()\n",
    "plt.show()"
   ]
  },
  {
   "cell_type": "markdown",
   "metadata": {},
   "source": [
    "Now we can make a function for this regression:"
   ]
  },
  {
   "cell_type": "code",
   "execution_count": 184,
   "metadata": {},
   "outputs": [],
   "source": [
    "def to_protein( val ): return val * fit_p[ 0 ] + fit_p[ 1 ]"
   ]
  },
  {
   "cell_type": "code",
   "execution_count": null,
   "metadata": {},
   "outputs": [],
   "source": []
  }
 ],
 "metadata": {
  "kernelspec": {
   "display_name": "Python 3",
   "language": "python",
   "name": "python3"
  },
  "language_info": {
   "codemirror_mode": {
    "name": "ipython",
    "version": 3
   },
   "file_extension": ".py",
   "mimetype": "text/x-python",
   "name": "python",
   "nbconvert_exporter": "python",
   "pygments_lexer": "ipython3",
   "version": "3.7.3"
  }
 },
 "nbformat": 4,
 "nbformat_minor": 4
}
